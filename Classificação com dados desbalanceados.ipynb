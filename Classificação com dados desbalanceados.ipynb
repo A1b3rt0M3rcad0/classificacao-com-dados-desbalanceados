{
 "cells": [
  {
   "cell_type": "markdown",
   "id": "95a10a5a",
   "metadata": {},
   "source": [
    "# Importando bibliotecas"
   ]
  },
  {
   "cell_type": "code",
   "execution_count": 37,
   "id": "a2924d52",
   "metadata": {},
   "outputs": [],
   "source": [
    "import pandas as pd\n",
    "import numpy as np\n",
    "from sklearn.ensemble import RandomForestClassifier\n",
    "import seaborn as sns\n",
    "from sklearn.metrics import accuracy_score\n",
    "from sklearn.metrics import confusion_matrix\n",
    "from sklearn.model_selection import train_test_split"
   ]
  },
  {
   "cell_type": "markdown",
   "id": "932e52f3",
   "metadata": {},
   "source": [
    "## Carregando dados"
   ]
  },
  {
   "cell_type": "code",
   "execution_count": 2,
   "id": "4d1679c1",
   "metadata": {},
   "outputs": [],
   "source": [
    "dataset = pd.read_csv('dados/csv_result-ebay_confianca_completo.csv')"
   ]
  },
  {
   "cell_type": "code",
   "execution_count": 3,
   "id": "a9a93f1e",
   "metadata": {},
   "outputs": [
    {
     "data": {
      "text/plain": [
       "(5806, 75)"
      ]
     },
     "execution_count": 3,
     "metadata": {},
     "output_type": "execute_result"
    }
   ],
   "source": [
    "dataset.shape"
   ]
  },
  {
   "cell_type": "code",
   "execution_count": 4,
   "id": "7fabb30a",
   "metadata": {},
   "outputs": [
    {
     "data": {
      "text/html": [
       "<div>\n",
       "<style scoped>\n",
       "    .dataframe tbody tr th:only-of-type {\n",
       "        vertical-align: middle;\n",
       "    }\n",
       "\n",
       "    .dataframe tbody tr th {\n",
       "        vertical-align: top;\n",
       "    }\n",
       "\n",
       "    .dataframe thead th {\n",
       "        text-align: right;\n",
       "    }\n",
       "</style>\n",
       "<table border=\"1\" class=\"dataframe\">\n",
       "  <thead>\n",
       "    <tr style=\"text-align: right;\">\n",
       "      <th></th>\n",
       "      <th>feedbacks</th>\n",
       "      <th>reviews</th>\n",
       "      <th>blacklist</th>\n",
       "      <th>mextraversion</th>\n",
       "      <th>cextraversion</th>\n",
       "      <th>sextraversion</th>\n",
       "      <th>mneuroticism</th>\n",
       "      <th>cneuroticism</th>\n",
       "      <th>sneuroticism</th>\n",
       "      <th>mconscientiousness</th>\n",
       "      <th>...</th>\n",
       "      <th>need_practicaly</th>\n",
       "      <th>need_selfexpression</th>\n",
       "      <th>need_stability</th>\n",
       "      <th>need_structure</th>\n",
       "      <th>value_conservation</th>\n",
       "      <th>value_openess</th>\n",
       "      <th>value_hedonism</th>\n",
       "      <th>value_selfenhancement</th>\n",
       "      <th>value_selftranscendence</th>\n",
       "      <th>reputation</th>\n",
       "    </tr>\n",
       "  </thead>\n",
       "  <tbody>\n",
       "    <tr>\n",
       "      <th>2</th>\n",
       "      <td>0</td>\n",
       "      <td>49</td>\n",
       "      <td>N</td>\n",
       "      <td>4.181642</td>\n",
       "      <td>0.6</td>\n",
       "      <td>1</td>\n",
       "      <td>2.777591</td>\n",
       "      <td>0.6</td>\n",
       "      <td>0</td>\n",
       "      <td>4.085460</td>\n",
       "      <td>...</td>\n",
       "      <td>0.696359</td>\n",
       "      <td>0.698786</td>\n",
       "      <td>0.756963</td>\n",
       "      <td>0.660119</td>\n",
       "      <td>0.619416</td>\n",
       "      <td>0.746372</td>\n",
       "      <td>0.640073</td>\n",
       "      <td>0.598037</td>\n",
       "      <td>0.828716</td>\n",
       "      <td>Bom</td>\n",
       "    </tr>\n",
       "    <tr>\n",
       "      <th>3</th>\n",
       "      <td>0</td>\n",
       "      <td>56</td>\n",
       "      <td>N</td>\n",
       "      <td>4.007042</td>\n",
       "      <td>0.6</td>\n",
       "      <td>0</td>\n",
       "      <td>2.698650</td>\n",
       "      <td>0.6</td>\n",
       "      <td>0</td>\n",
       "      <td>4.187338</td>\n",
       "      <td>...</td>\n",
       "      <td>0.715300</td>\n",
       "      <td>0.664572</td>\n",
       "      <td>0.728806</td>\n",
       "      <td>0.660740</td>\n",
       "      <td>0.588969</td>\n",
       "      <td>0.735915</td>\n",
       "      <td>0.644465</td>\n",
       "      <td>0.603042</td>\n",
       "      <td>0.809379</td>\n",
       "      <td>Bom</td>\n",
       "    </tr>\n",
       "    <tr>\n",
       "      <th>4</th>\n",
       "      <td>0</td>\n",
       "      <td>50</td>\n",
       "      <td>N</td>\n",
       "      <td>4.538230</td>\n",
       "      <td>0.7</td>\n",
       "      <td>1</td>\n",
       "      <td>2.298492</td>\n",
       "      <td>0.5</td>\n",
       "      <td>1</td>\n",
       "      <td>5.085833</td>\n",
       "      <td>...</td>\n",
       "      <td>0.720150</td>\n",
       "      <td>0.694678</td>\n",
       "      <td>0.669652</td>\n",
       "      <td>0.627962</td>\n",
       "      <td>0.553523</td>\n",
       "      <td>0.766618</td>\n",
       "      <td>0.655470</td>\n",
       "      <td>0.645042</td>\n",
       "      <td>0.826039</td>\n",
       "      <td>Bom</td>\n",
       "    </tr>\n",
       "    <tr>\n",
       "      <th>5</th>\n",
       "      <td>72</td>\n",
       "      <td>0</td>\n",
       "      <td>N</td>\n",
       "      <td>4.692854</td>\n",
       "      <td>0.3</td>\n",
       "      <td>0</td>\n",
       "      <td>2.987231</td>\n",
       "      <td>0.5</td>\n",
       "      <td>0</td>\n",
       "      <td>4.831320</td>\n",
       "      <td>...</td>\n",
       "      <td>0.739793</td>\n",
       "      <td>0.637027</td>\n",
       "      <td>0.697221</td>\n",
       "      <td>0.638587</td>\n",
       "      <td>0.675289</td>\n",
       "      <td>0.752234</td>\n",
       "      <td>0.679661</td>\n",
       "      <td>0.674438</td>\n",
       "      <td>0.813391</td>\n",
       "      <td>Bom</td>\n",
       "    </tr>\n",
       "    <tr>\n",
       "      <th>6</th>\n",
       "      <td>76</td>\n",
       "      <td>0</td>\n",
       "      <td>N</td>\n",
       "      <td>4.966753</td>\n",
       "      <td>0.3</td>\n",
       "      <td>0</td>\n",
       "      <td>3.048730</td>\n",
       "      <td>0.5</td>\n",
       "      <td>0</td>\n",
       "      <td>4.725294</td>\n",
       "      <td>...</td>\n",
       "      <td>0.718530</td>\n",
       "      <td>0.616852</td>\n",
       "      <td>0.692761</td>\n",
       "      <td>0.646695</td>\n",
       "      <td>0.677245</td>\n",
       "      <td>0.699785</td>\n",
       "      <td>0.648607</td>\n",
       "      <td>0.616075</td>\n",
       "      <td>0.816841</td>\n",
       "      <td>Bom</td>\n",
       "    </tr>\n",
       "  </tbody>\n",
       "</table>\n",
       "<p>5 rows × 75 columns</p>\n",
       "</div>"
      ],
      "text/plain": [
       "   feedbacks  reviews blacklist  mextraversion  cextraversion  sextraversion  \\\n",
       "2          0       49         N       4.181642            0.6              1   \n",
       "3          0       56         N       4.007042            0.6              0   \n",
       "4          0       50         N       4.538230            0.7              1   \n",
       "5         72        0         N       4.692854            0.3              0   \n",
       "6         76        0         N       4.966753            0.3              0   \n",
       "\n",
       "   mneuroticism  cneuroticism  sneuroticism  mconscientiousness  ...  \\\n",
       "2      2.777591           0.6             0            4.085460  ...   \n",
       "3      2.698650           0.6             0            4.187338  ...   \n",
       "4      2.298492           0.5             1            5.085833  ...   \n",
       "5      2.987231           0.5             0            4.831320  ...   \n",
       "6      3.048730           0.5             0            4.725294  ...   \n",
       "\n",
       "   need_practicaly  need_selfexpression  need_stability  need_structure  \\\n",
       "2         0.696359             0.698786        0.756963        0.660119   \n",
       "3         0.715300             0.664572        0.728806        0.660740   \n",
       "4         0.720150             0.694678        0.669652        0.627962   \n",
       "5         0.739793             0.637027        0.697221        0.638587   \n",
       "6         0.718530             0.616852        0.692761        0.646695   \n",
       "\n",
       "   value_conservation  value_openess  value_hedonism  value_selfenhancement  \\\n",
       "2            0.619416       0.746372        0.640073               0.598037   \n",
       "3            0.588969       0.735915        0.644465               0.603042   \n",
       "4            0.553523       0.766618        0.655470               0.645042   \n",
       "5            0.675289       0.752234        0.679661               0.674438   \n",
       "6            0.677245       0.699785        0.648607               0.616075   \n",
       "\n",
       "   value_selftranscendence  reputation  \n",
       "2                 0.828716         Bom  \n",
       "3                 0.809379         Bom  \n",
       "4                 0.826039         Bom  \n",
       "5                 0.813391         Bom  \n",
       "6                 0.816841         Bom  \n",
       "\n",
       "[5 rows x 75 columns]"
      ]
     },
     "execution_count": 4,
     "metadata": {},
     "output_type": "execute_result"
    }
   ],
   "source": [
    "dataset.head()"
   ]
  },
  {
   "cell_type": "code",
   "execution_count": 5,
   "id": "78894545",
   "metadata": {},
   "outputs": [
    {
     "data": {
      "text/html": [
       "<div>\n",
       "<style scoped>\n",
       "    .dataframe tbody tr th:only-of-type {\n",
       "        vertical-align: middle;\n",
       "    }\n",
       "\n",
       "    .dataframe tbody tr th {\n",
       "        vertical-align: top;\n",
       "    }\n",
       "\n",
       "    .dataframe thead th {\n",
       "        text-align: right;\n",
       "    }\n",
       "</style>\n",
       "<table border=\"1\" class=\"dataframe\">\n",
       "  <thead>\n",
       "    <tr style=\"text-align: right;\">\n",
       "      <th></th>\n",
       "      <th>feedbacks</th>\n",
       "      <th>reviews</th>\n",
       "      <th>mextraversion</th>\n",
       "      <th>cextraversion</th>\n",
       "      <th>sextraversion</th>\n",
       "      <th>mneuroticism</th>\n",
       "      <th>cneuroticism</th>\n",
       "      <th>sneuroticism</th>\n",
       "      <th>mconscientiousness</th>\n",
       "      <th>cconscientiousness</th>\n",
       "      <th>...</th>\n",
       "      <th>need_love</th>\n",
       "      <th>need_practicaly</th>\n",
       "      <th>need_selfexpression</th>\n",
       "      <th>need_stability</th>\n",
       "      <th>need_structure</th>\n",
       "      <th>value_conservation</th>\n",
       "      <th>value_openess</th>\n",
       "      <th>value_hedonism</th>\n",
       "      <th>value_selfenhancement</th>\n",
       "      <th>value_selftranscendence</th>\n",
       "    </tr>\n",
       "  </thead>\n",
       "  <tbody>\n",
       "    <tr>\n",
       "      <th>count</th>\n",
       "      <td>5806.000000</td>\n",
       "      <td>5806.000000</td>\n",
       "      <td>5806.000000</td>\n",
       "      <td>5806.000000</td>\n",
       "      <td>5806.000000</td>\n",
       "      <td>5806.000000</td>\n",
       "      <td>5806.000000</td>\n",
       "      <td>5806.000000</td>\n",
       "      <td>5806.000000</td>\n",
       "      <td>5806.000000</td>\n",
       "      <td>...</td>\n",
       "      <td>5806.000000</td>\n",
       "      <td>5806.000000</td>\n",
       "      <td>5806.000000</td>\n",
       "      <td>5806.000000</td>\n",
       "      <td>5806.000000</td>\n",
       "      <td>5806.000000</td>\n",
       "      <td>5806.000000</td>\n",
       "      <td>5806.000000</td>\n",
       "      <td>5806.000000</td>\n",
       "      <td>5806.000000</td>\n",
       "    </tr>\n",
       "    <tr>\n",
       "      <th>mean</th>\n",
       "      <td>65.047365</td>\n",
       "      <td>0.166896</td>\n",
       "      <td>4.786959</td>\n",
       "      <td>0.476266</td>\n",
       "      <td>0.042714</td>\n",
       "      <td>3.049298</td>\n",
       "      <td>0.466845</td>\n",
       "      <td>0.688942</td>\n",
       "      <td>4.772899</td>\n",
       "      <td>0.556545</td>\n",
       "      <td>...</td>\n",
       "      <td>0.741760</td>\n",
       "      <td>0.740528</td>\n",
       "      <td>0.639086</td>\n",
       "      <td>0.707427</td>\n",
       "      <td>0.645731</td>\n",
       "      <td>0.651150</td>\n",
       "      <td>0.757230</td>\n",
       "      <td>0.694574</td>\n",
       "      <td>0.669770</td>\n",
       "      <td>0.815883</td>\n",
       "    </tr>\n",
       "    <tr>\n",
       "      <th>std</th>\n",
       "      <td>28.755538</td>\n",
       "      <td>2.801725</td>\n",
       "      <td>0.347073</td>\n",
       "      <td>0.142604</td>\n",
       "      <td>0.202230</td>\n",
       "      <td>0.361792</td>\n",
       "      <td>0.077834</td>\n",
       "      <td>0.462966</td>\n",
       "      <td>0.380572</td>\n",
       "      <td>0.110192</td>\n",
       "      <td>...</td>\n",
       "      <td>0.030950</td>\n",
       "      <td>0.024205</td>\n",
       "      <td>0.029450</td>\n",
       "      <td>0.016710</td>\n",
       "      <td>0.023310</td>\n",
       "      <td>0.024852</td>\n",
       "      <td>0.019115</td>\n",
       "      <td>0.032888</td>\n",
       "      <td>0.024016</td>\n",
       "      <td>0.013363</td>\n",
       "    </tr>\n",
       "    <tr>\n",
       "      <th>min</th>\n",
       "      <td>0.000000</td>\n",
       "      <td>0.000000</td>\n",
       "      <td>1.399464</td>\n",
       "      <td>0.100000</td>\n",
       "      <td>0.000000</td>\n",
       "      <td>-1.403793</td>\n",
       "      <td>0.200000</td>\n",
       "      <td>0.000000</td>\n",
       "      <td>2.953039</td>\n",
       "      <td>0.300000</td>\n",
       "      <td>...</td>\n",
       "      <td>0.623295</td>\n",
       "      <td>0.640543</td>\n",
       "      <td>0.530665</td>\n",
       "      <td>0.642212</td>\n",
       "      <td>0.559316</td>\n",
       "      <td>0.522505</td>\n",
       "      <td>0.678664</td>\n",
       "      <td>0.531540</td>\n",
       "      <td>0.562217</td>\n",
       "      <td>0.730698</td>\n",
       "    </tr>\n",
       "    <tr>\n",
       "      <th>25%</th>\n",
       "      <td>49.000000</td>\n",
       "      <td>0.000000</td>\n",
       "      <td>4.591643</td>\n",
       "      <td>0.500000</td>\n",
       "      <td>0.000000</td>\n",
       "      <td>2.871910</td>\n",
       "      <td>0.500000</td>\n",
       "      <td>0.000000</td>\n",
       "      <td>4.552426</td>\n",
       "      <td>0.500000</td>\n",
       "      <td>...</td>\n",
       "      <td>0.722020</td>\n",
       "      <td>0.725207</td>\n",
       "      <td>0.619476</td>\n",
       "      <td>0.697073</td>\n",
       "      <td>0.630265</td>\n",
       "      <td>0.632813</td>\n",
       "      <td>0.745268</td>\n",
       "      <td>0.674089</td>\n",
       "      <td>0.654921</td>\n",
       "      <td>0.807388</td>\n",
       "    </tr>\n",
       "    <tr>\n",
       "      <th>50%</th>\n",
       "      <td>57.000000</td>\n",
       "      <td>0.000000</td>\n",
       "      <td>4.777159</td>\n",
       "      <td>0.500000</td>\n",
       "      <td>0.000000</td>\n",
       "      <td>3.086165</td>\n",
       "      <td>0.500000</td>\n",
       "      <td>1.000000</td>\n",
       "      <td>4.757340</td>\n",
       "      <td>0.500000</td>\n",
       "      <td>...</td>\n",
       "      <td>0.743327</td>\n",
       "      <td>0.742432</td>\n",
       "      <td>0.637409</td>\n",
       "      <td>0.707229</td>\n",
       "      <td>0.645992</td>\n",
       "      <td>0.649887</td>\n",
       "      <td>0.758688</td>\n",
       "      <td>0.694888</td>\n",
       "      <td>0.672333</td>\n",
       "      <td>0.815776</td>\n",
       "    </tr>\n",
       "    <tr>\n",
       "      <th>75%</th>\n",
       "      <td>83.000000</td>\n",
       "      <td>0.000000</td>\n",
       "      <td>4.969744</td>\n",
       "      <td>0.500000</td>\n",
       "      <td>0.000000</td>\n",
       "      <td>3.260629</td>\n",
       "      <td>0.500000</td>\n",
       "      <td>1.000000</td>\n",
       "      <td>4.982377</td>\n",
       "      <td>0.700000</td>\n",
       "      <td>...</td>\n",
       "      <td>0.762141</td>\n",
       "      <td>0.757603</td>\n",
       "      <td>0.657495</td>\n",
       "      <td>0.717282</td>\n",
       "      <td>0.661789</td>\n",
       "      <td>0.668890</td>\n",
       "      <td>0.770028</td>\n",
       "      <td>0.715616</td>\n",
       "      <td>0.686001</td>\n",
       "      <td>0.823872</td>\n",
       "    </tr>\n",
       "    <tr>\n",
       "      <th>max</th>\n",
       "      <td>290.000000</td>\n",
       "      <td>56.000000</td>\n",
       "      <td>7.119144</td>\n",
       "      <td>0.900000</td>\n",
       "      <td>1.000000</td>\n",
       "      <td>5.515797</td>\n",
       "      <td>0.900000</td>\n",
       "      <td>1.000000</td>\n",
       "      <td>7.867835</td>\n",
       "      <td>0.900000</td>\n",
       "      <td>...</td>\n",
       "      <td>0.858957</td>\n",
       "      <td>0.827216</td>\n",
       "      <td>0.759828</td>\n",
       "      <td>0.781361</td>\n",
       "      <td>0.747781</td>\n",
       "      <td>0.769267</td>\n",
       "      <td>0.863673</td>\n",
       "      <td>0.818997</td>\n",
       "      <td>0.780665</td>\n",
       "      <td>0.884518</td>\n",
       "    </tr>\n",
       "  </tbody>\n",
       "</table>\n",
       "<p>8 rows × 73 columns</p>\n",
       "</div>"
      ],
      "text/plain": [
       "         feedbacks      reviews  mextraversion  cextraversion  sextraversion  \\\n",
       "count  5806.000000  5806.000000    5806.000000    5806.000000    5806.000000   \n",
       "mean     65.047365     0.166896       4.786959       0.476266       0.042714   \n",
       "std      28.755538     2.801725       0.347073       0.142604       0.202230   \n",
       "min       0.000000     0.000000       1.399464       0.100000       0.000000   \n",
       "25%      49.000000     0.000000       4.591643       0.500000       0.000000   \n",
       "50%      57.000000     0.000000       4.777159       0.500000       0.000000   \n",
       "75%      83.000000     0.000000       4.969744       0.500000       0.000000   \n",
       "max     290.000000    56.000000       7.119144       0.900000       1.000000   \n",
       "\n",
       "       mneuroticism  cneuroticism  sneuroticism  mconscientiousness  \\\n",
       "count   5806.000000   5806.000000   5806.000000         5806.000000   \n",
       "mean       3.049298      0.466845      0.688942            4.772899   \n",
       "std        0.361792      0.077834      0.462966            0.380572   \n",
       "min       -1.403793      0.200000      0.000000            2.953039   \n",
       "25%        2.871910      0.500000      0.000000            4.552426   \n",
       "50%        3.086165      0.500000      1.000000            4.757340   \n",
       "75%        3.260629      0.500000      1.000000            4.982377   \n",
       "max        5.515797      0.900000      1.000000            7.867835   \n",
       "\n",
       "       cconscientiousness  ...    need_love  need_practicaly  \\\n",
       "count         5806.000000  ...  5806.000000      5806.000000   \n",
       "mean             0.556545  ...     0.741760         0.740528   \n",
       "std              0.110192  ...     0.030950         0.024205   \n",
       "min              0.300000  ...     0.623295         0.640543   \n",
       "25%              0.500000  ...     0.722020         0.725207   \n",
       "50%              0.500000  ...     0.743327         0.742432   \n",
       "75%              0.700000  ...     0.762141         0.757603   \n",
       "max              0.900000  ...     0.858957         0.827216   \n",
       "\n",
       "       need_selfexpression  need_stability  need_structure  \\\n",
       "count          5806.000000     5806.000000     5806.000000   \n",
       "mean              0.639086        0.707427        0.645731   \n",
       "std               0.029450        0.016710        0.023310   \n",
       "min               0.530665        0.642212        0.559316   \n",
       "25%               0.619476        0.697073        0.630265   \n",
       "50%               0.637409        0.707229        0.645992   \n",
       "75%               0.657495        0.717282        0.661789   \n",
       "max               0.759828        0.781361        0.747781   \n",
       "\n",
       "       value_conservation  value_openess  value_hedonism  \\\n",
       "count         5806.000000    5806.000000     5806.000000   \n",
       "mean             0.651150       0.757230        0.694574   \n",
       "std              0.024852       0.019115        0.032888   \n",
       "min              0.522505       0.678664        0.531540   \n",
       "25%              0.632813       0.745268        0.674089   \n",
       "50%              0.649887       0.758688        0.694888   \n",
       "75%              0.668890       0.770028        0.715616   \n",
       "max              0.769267       0.863673        0.818997   \n",
       "\n",
       "       value_selfenhancement  value_selftranscendence  \n",
       "count            5806.000000              5806.000000  \n",
       "mean                0.669770                 0.815883  \n",
       "std                 0.024016                 0.013363  \n",
       "min                 0.562217                 0.730698  \n",
       "25%                 0.654921                 0.807388  \n",
       "50%                 0.672333                 0.815776  \n",
       "75%                 0.686001                 0.823872  \n",
       "max                 0.780665                 0.884518  \n",
       "\n",
       "[8 rows x 73 columns]"
      ]
     },
     "execution_count": 5,
     "metadata": {},
     "output_type": "execute_result"
    }
   ],
   "source": [
    "dataset.describe()"
   ]
  },
  {
   "cell_type": "code",
   "execution_count": 6,
   "id": "1d31f8ed",
   "metadata": {},
   "outputs": [],
   "source": [
    "# Trocando dados para o modelo conseguir identificar\n",
    "\n",
    "dataset['blacklist'] = dataset['blacklist'].map({'B': 0, 'N': 1})\n",
    "dataset['reputation'] = dataset['reputation'].map({'Bom': 0, 'Ruim': 1})"
   ]
  },
  {
   "cell_type": "code",
   "execution_count": 7,
   "id": "b4ec03fa",
   "metadata": {},
   "outputs": [
    {
     "data": {
      "text/plain": [
       "(array([0, 1], dtype=int64), array([ 784, 5022], dtype=int64))"
      ]
     },
     "execution_count": 7,
     "metadata": {},
     "output_type": "execute_result"
    }
   ],
   "source": [
    "np.unique(dataset['blacklist'], return_counts=True)"
   ]
  },
  {
   "cell_type": "code",
   "execution_count": 8,
   "id": "76c8af76",
   "metadata": {},
   "outputs": [],
   "source": [
    "x = dataset.drop(columns='reputation').values\n",
    "y = dataset.reputation.values"
   ]
  },
  {
   "cell_type": "code",
   "execution_count": 9,
   "id": "c1d02c34",
   "metadata": {},
   "outputs": [
    {
     "data": {
      "text/plain": [
       "(array([0, 1], dtype=int64), array([4299, 1507], dtype=int64))"
      ]
     },
     "execution_count": 9,
     "metadata": {},
     "output_type": "execute_result"
    }
   ],
   "source": [
    "np.unique(y, return_counts=True)"
   ]
  },
  {
   "cell_type": "markdown",
   "id": "82228949",
   "metadata": {},
   "source": [
    "## Criando treino e teste"
   ]
  },
  {
   "cell_type": "code",
   "execution_count": 10,
   "id": "5d175497",
   "metadata": {},
   "outputs": [],
   "source": [
    "from sklearn.model_selection import train_test_split"
   ]
  },
  {
   "cell_type": "code",
   "execution_count": 11,
   "id": "b1eca691",
   "metadata": {},
   "outputs": [],
   "source": [
    "x_train, x_test, y_train, y_test = train_test_split(x, y, test_size=0.2, stratify=y)"
   ]
  },
  {
   "cell_type": "markdown",
   "id": "91c8374d",
   "metadata": {},
   "source": [
    "## Criando e Avaliando Modelo"
   ]
  },
  {
   "cell_type": "code",
   "execution_count": 12,
   "id": "1feb86c8",
   "metadata": {},
   "outputs": [
    {
     "data": {
      "text/plain": [
       "RandomForestClassifier()"
      ]
     },
     "execution_count": 12,
     "metadata": {},
     "output_type": "execute_result"
    }
   ],
   "source": [
    "modelo = RandomForestClassifier()\n",
    "modelo.fit(x_train, y_train)"
   ]
  },
  {
   "cell_type": "code",
   "execution_count": 14,
   "id": "12303501",
   "metadata": {},
   "outputs": [],
   "source": [
    "previsoes = modelo.predict(x_test)"
   ]
  },
  {
   "cell_type": "code",
   "execution_count": 15,
   "id": "aa0ed78f",
   "metadata": {},
   "outputs": [
    {
     "data": {
      "text/plain": [
       "0.7401032702237521"
      ]
     },
     "execution_count": 15,
     "metadata": {},
     "output_type": "execute_result"
    }
   ],
   "source": [
    "accuracy_score(y_test, previsoes)"
   ]
  },
  {
   "cell_type": "code",
   "execution_count": 17,
   "id": "c88ced61",
   "metadata": {},
   "outputs": [
    {
     "data": {
      "text/plain": [
       "array([[845, 287],\n",
       "       [ 15,  15]], dtype=int64)"
      ]
     },
     "execution_count": 17,
     "metadata": {},
     "output_type": "execute_result"
    }
   ],
   "source": [
    "cm = confusion_matrix(previsoes, y_test)\n",
    "cm"
   ]
  },
  {
   "cell_type": "code",
   "execution_count": 22,
   "id": "541645e7",
   "metadata": {},
   "outputs": [
    {
     "data": {
      "text/plain": [
       "0.7464664310954063"
      ]
     },
     "execution_count": 22,
     "metadata": {},
     "output_type": "execute_result"
    }
   ],
   "source": [
    "# Percentual de acerto de clientes com reputação Boa\n",
    "cm[0][0] / (cm[0][1] + cm[0][0])"
   ]
  },
  {
   "cell_type": "code",
   "execution_count": 24,
   "id": "6b469e4d",
   "metadata": {},
   "outputs": [
    {
     "data": {
      "text/plain": [
       "0.5"
      ]
     },
     "execution_count": 24,
     "metadata": {},
     "output_type": "execute_result"
    }
   ],
   "source": [
    "# Percentual de acerto de clientes com reputação Ruim\n",
    "cm[1][0] / (cm[1][1] + cm[1][0])"
   ]
  },
  {
   "cell_type": "code",
   "execution_count": 19,
   "id": "b2c51ad6",
   "metadata": {},
   "outputs": [
    {
     "data": {
      "image/png": "[encoded data removed]",
      "text/plain": [
       "<Figure size 640x480 with 2 Axes>"
      ]
     },
     "metadata": {},
     "output_type": "display_data"
    }
   ],
   "source": [
    "sns.heatmap(cm, annot=True);"
   ]
  },
  {
   "cell_type": "markdown",
   "id": "48c99765",
   "metadata": {},
   "source": [
    "## Undersampling"
   ]
  },
  {
   "cell_type": "code",
   "execution_count": 26,
   "id": "a8d2d0fe",
   "metadata": {},
   "outputs": [],
   "source": [
    "from imblearn.under_sampling import TomekLinks"
   ]
  },
  {
   "cell_type": "code",
   "execution_count": 34,
   "id": "bc73bb2a",
   "metadata": {},
   "outputs": [],
   "source": [
    "tl = TomekLinks(sampling_strategy='majority')\n",
    "x_u, y_u = tl.fit_resample(x, y)"
   ]
  },
  {
   "cell_type": "code",
   "execution_count": 35,
   "id": "2e72c544",
   "metadata": {},
   "outputs": [
    {
     "data": {
      "text/plain": [
       "((5806, 74), (5417, 74))"
      ]
     },
     "execution_count": 35,
     "metadata": {},
     "output_type": "execute_result"
    }
   ],
   "source": [
    "x.shape, x_u.shape"
   ]
  },
  {
   "cell_type": "code",
   "execution_count": 36,
   "id": "67f5aed5",
   "metadata": {},
   "outputs": [
    {
     "data": {
      "text/plain": [
       "((array([0, 1], dtype=int64), array([4299, 1507], dtype=int64)),\n",
       " (array([0, 1], dtype=int64), array([3910, 1507], dtype=int64)))"
      ]
     },
     "execution_count": 36,
     "metadata": {},
     "output_type": "execute_result"
    }
   ],
   "source": [
    "np.unique(y, return_counts=True), np.unique(y_u, return_counts=True)"
   ]
  },
  {
   "cell_type": "code",
   "execution_count": 39,
   "id": "bbf3afa4",
   "metadata": {},
   "outputs": [],
   "source": [
    "## Dividindo em treino e teste\n",
    "x_train_u, x_test_u, y_train_u, y_test_u = train_test_split(x_u, y_u, test_size=0.2, stratify=y_u)"
   ]
  },
  {
   "cell_type": "code",
   "execution_count": 40,
   "id": "f4c47186",
   "metadata": {},
   "outputs": [
    {
     "data": {
      "text/plain": [
       "RandomForestClassifier()"
      ]
     },
     "execution_count": 40,
     "metadata": {},
     "output_type": "execute_result"
    }
   ],
   "source": [
    "# Treinando modelo\n",
    "modelo_u = RandomForestClassifier()\n",
    "modelo_u.fit(x_train_u, y_train_u)"
   ]
  },
  {
   "cell_type": "code",
   "execution_count": 41,
   "id": "613c9595",
   "metadata": {},
   "outputs": [
    {
     "data": {
      "text/plain": [
       "0.7361623616236163"
      ]
     },
     "execution_count": 41,
     "metadata": {},
     "output_type": "execute_result"
    }
   ],
   "source": [
    "## Avaliando modelo\n",
    "previsoes_u = modelo_u.predict(x_test_u)\n",
    "accuracy_score(y_test_u, previsoes_u)"
   ]
  },
  {
   "cell_type": "code",
   "execution_count": 42,
   "id": "e58461c7",
   "metadata": {},
   "outputs": [
    {
     "data": {
      "text/plain": [
       "array([[778,   4],\n",
       "       [282,  20]], dtype=int64)"
      ]
     },
     "execution_count": 42,
     "metadata": {},
     "output_type": "execute_result"
    }
   ],
   "source": [
    "## Avaliando os acertos por grupo\n",
    "cm_u = confusion_matrix(y_test_u, previsoes_u)\n",
    "cm_u"
   ]
  },
  {
   "cell_type": "code",
   "execution_count": 51,
   "id": "29460eaf",
   "metadata": {},
   "outputs": [
    {
     "data": {
      "text/plain": [
       "99.0"
      ]
     },
     "execution_count": 51,
     "metadata": {},
     "output_type": "execute_result"
    }
   ],
   "source": [
    "# Percentual de acerto de clientes com reputação boa\n",
    "cm_u[0][0] / (cm_u[0][1] + cm_u[0][0]) * 100 // 1"
   ]
  },
  {
   "cell_type": "code",
   "execution_count": 50,
   "id": "515254ed",
   "metadata": {},
   "outputs": [
    {
     "data": {
      "text/plain": [
       "6.0"
      ]
     },
     "execution_count": 50,
     "metadata": {},
     "output_type": "execute_result"
    }
   ],
   "source": [
    "# Percentual de acerto de clientes com reputação ruim\n",
    "cm_u[1][1] / (cm_u[1][1] + cm_u[1][0]) * 100 // 1"
   ]
  },
  {
   "cell_type": "code",
   "execution_count": 44,
   "id": "861b61bf",
   "metadata": {},
   "outputs": [
    {
     "data": {
      "image/png": "[encoded data removed]",
      "text/plain": [
       "<Figure size 640x480 with 2 Axes>"
      ]
     },
     "metadata": {},
     "output_type": "display_data"
    }
   ],
   "source": [
    "sns.heatmap(cm_u, annot=True);"
   ]
  },
  {
   "cell_type": "markdown",
   "id": "de819b2b",
   "metadata": {},
   "source": [
    "## Oversampling"
   ]
  },
  {
   "cell_type": "code",
   "execution_count": 52,
   "id": "901097e9",
   "metadata": {},
   "outputs": [],
   "source": [
    "from imblearn.over_sampling import SMOTE"
   ]
  },
  {
   "cell_type": "code",
   "execution_count": 55,
   "id": "b9398a2e",
   "metadata": {},
   "outputs": [],
   "source": [
    "smote = SMOTE(sampling_strategy='minority')"
   ]
  },
  {
   "cell_type": "code",
   "execution_count": 56,
   "id": "ae2d7385",
   "metadata": {},
   "outputs": [],
   "source": [
    "x_o, y_o = smote.fit_resample(x, y)"
   ]
  },
  {
   "cell_type": "code",
   "execution_count": 58,
   "id": "f29becae",
   "metadata": {},
   "outputs": [
    {
     "data": {
      "text/plain": [
       "((5806, 74), (8598, 74))"
      ]
     },
     "execution_count": 58,
     "metadata": {},
     "output_type": "execute_result"
    }
   ],
   "source": [
    "x.shape, x_o.shape"
   ]
  },
  {
   "cell_type": "code",
   "execution_count": 59,
   "id": "56b6d8f4",
   "metadata": {},
   "outputs": [
    {
     "data": {
      "text/plain": [
       "((array([0, 1], dtype=int64), array([4299, 1507], dtype=int64)),\n",
       " (array([0, 1], dtype=int64), array([4299, 4299], dtype=int64)))"
      ]
     },
     "execution_count": 59,
     "metadata": {},
     "output_type": "execute_result"
    }
   ],
   "source": [
    "np.unique(y, return_counts=True), np.unique(y_o, return_counts=True)"
   ]
  },
  {
   "cell_type": "code",
   "execution_count": 60,
   "id": "5b7e4280",
   "metadata": {},
   "outputs": [],
   "source": [
    "## Dividindo base em treino e teste\n",
    "x_train_o, x_test_o, y_train_o, y_test_o = train_test_split(x_o, y_o, test_size=0.2, stratify=y_o)"
   ]
  },
  {
   "cell_type": "code",
   "execution_count": 61,
   "id": "3b0a4963",
   "metadata": {},
   "outputs": [
    {
     "data": {
      "text/plain": [
       "RandomForestClassifier()"
      ]
     },
     "execution_count": 61,
     "metadata": {},
     "output_type": "execute_result"
    }
   ],
   "source": [
    "## Criando e Treinando modelo\n",
    "modelo_o = RandomForestClassifier()\n",
    "modelo_o.fit(x_train_o, y_train_o)"
   ]
  },
  {
   "cell_type": "code",
   "execution_count": 62,
   "id": "51516c9e",
   "metadata": {},
   "outputs": [
    {
     "data": {
      "text/plain": [
       "0.8267441860465117"
      ]
     },
     "execution_count": 62,
     "metadata": {},
     "output_type": "execute_result"
    }
   ],
   "source": [
    "## Avaliando modelo\n",
    "previsoes_o = modelo_o.predict(x_test_o)\n",
    "accuracy_score(y_test_o, previsoes_o)"
   ]
  },
  {
   "cell_type": "code",
   "execution_count": 63,
   "id": "71703d66",
   "metadata": {},
   "outputs": [
    {
     "data": {
      "text/plain": [
       "array([[706, 154],\n",
       "       [144, 716]], dtype=int64)"
      ]
     },
     "execution_count": 63,
     "metadata": {},
     "output_type": "execute_result"
    }
   ],
   "source": [
    "cm_o = confusion_matrix(y_test_o, previsoes_o)\n",
    "cm_o"
   ]
  },
  {
   "cell_type": "code",
   "execution_count": 66,
   "id": "09594948",
   "metadata": {},
   "outputs": [
    {
     "data": {
      "text/plain": [
       "0.8209302325581396"
      ]
     },
     "execution_count": 66,
     "metadata": {},
     "output_type": "execute_result"
    }
   ],
   "source": [
    "# Percentual de acerto de cliente com boa reputação\n",
    "cm_o[0][0] / (cm_o[0][0] + cm_o[0][1])"
   ]
  },
  {
   "cell_type": "code",
   "execution_count": 67,
   "id": "aa0f03ec",
   "metadata": {},
   "outputs": [
    {
     "data": {
      "text/plain": [
       "0.8325581395348837"
      ]
     },
     "execution_count": 67,
     "metadata": {},
     "output_type": "execute_result"
    }
   ],
   "source": [
    "cm_o[1][1] / (cm_o[1][0] + cm_o[1][1])"
   ]
  },
  {
   "cell_type": "code",
   "execution_count": 69,
   "id": "f3393e9e",
   "metadata": {},
   "outputs": [
    {
     "data": {
      "image/png": "[encoded data removed]",
      "text/plain": [
       "<Figure size 640x480 with 2 Axes>"
      ]
     },
     "metadata": {},
     "output_type": "display_data"
    }
   ],
   "source": [
    "sns.heatmap(cm_o, annot=True);"
   ]
  },
  {
   "cell_type": "markdown",
   "id": "6a9980fb",
   "metadata": {},
   "source": [
    "**Conclusão:** Utilizar o Oversampling nessa situação foi a melhor maneira de aumentar a acertividade do modelo para os clientes que possuiam uma reputação \"Ruim\", ja os que possuiam \"Boa\" reputação o aumento não foi muito significativo."
   ]
  }
 ],
 "metadata": {
  "kernelspec": {
   "display_name": "Python 3 (ipykernel)",
   "language": "python",
   "name": "python3"
  },
  "language_info": {
   "codemirror_mode": {
    "name": "ipython",
    "version": 3
   },
   "file_extension": ".py",
   "mimetype": "text/x-python",
   "name": "python",
   "nbconvert_exporter": "python",
   "pygments_lexer": "ipython3",
   "version": "3.9.13"
  }
 },
 "nbformat": 4,
 "nbformat_minor": 5
}
